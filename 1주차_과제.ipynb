{
  "nbformat": 4,
  "nbformat_minor": 0,
  "metadata": {
    "colab": {
      "name": "1주차 과제.ipynb",
      "provenance": [],
      "collapsed_sections": [],
      "authorship_tag": "ABX9TyNI+JIvfgc8bj/+maYg4iUY",
      "include_colab_link": true
    },
    "kernelspec": {
      "name": "python3",
      "display_name": "Python 3"
    }
  },
  "cells": [
    {
      "cell_type": "markdown",
      "metadata": {
        "id": "view-in-github",
        "colab_type": "text"
      },
      "source": [
        "<a href=\"https://colab.research.google.com/github/SHyoJun/-A.I_Project/blob/master/1%EC%A3%BC%EC%B0%A8_%EA%B3%BC%EC%A0%9C.ipynb\" target=\"_parent\"><img src=\"https://colab.research.google.com/assets/colab-badge.svg\" alt=\"Open In Colab\"/></a>"
      ]
    },
    {
      "cell_type": "markdown",
      "metadata": {
        "id": "l5RKaZYKECHo",
        "colab_type": "text"
      },
      "source": [
        "#현재 사용되고있는 인공지능 사례분석\n",
        "######목차\n",
        "\n",
        "* 언어\n",
        "  * 파파고\n",
        "+ 음성\n",
        "  + AI 고객센터 클로바\n",
        "+ 이미지\n",
        "  + 고속도로 크레이터 분석\n",
        "+ 자율주행\n",
        "  + 테슬라\n",
        "\n"
      ]
    },
    {
      "cell_type": "markdown",
      "metadata": {
        "id": "7OS_GPabJnsd",
        "colab_type": "text"
      },
      "source": [
        "#언어\n",
        "\n",
        "## 언어를 인공지능으로 분석하고 번역하는 파파고\n",
        "![파파고](https://img1.daumcdn.net/thumb/R1280x0/?scode=mtistory2&fname=http%3A%2F%2Fcfile26.uf.tistory.com%2Fimage%2F2516FA3B5822C4112E36FA)\n",
        "NMT는 Neural Machine Translation(인공신경망 기반 기계번역)의 약어입니다. 파파고의 NMT 기술은 입력 문장을 문장벡터로 변환하는 신경망(encoder)과 문장벡터에서 번역하는 언어의 문장을 생성하는 신경망(decoder)를 대규모의 병렬 코퍼스부터 자동으로 학습합니다. 입력문장의 일부가 아니라 문장 전체 정보를 바탕으로 번역을 수행하기때문에 기존 SMT방식의 번역보다 더욱 정확하고 문장 맥락에 맞는 번역을 하는것이 특징입니다.\n",
        "\n",
        "이러한 파파고가 학습하는데 있어서 직접 사람들이 파파고의 번역한 문장을 보고 자연스러운지 아닌지를 판별해주어 더욱 진화한 모델이 될수 있다고 하였습니다.\n",
        "\n",
        "해외 전공 서적을 보는데 있어 번역은 필수인데 자연스럽지 못한 경우가 많았습니다.\n",
        "인공지능으로 이러한 자연스러움이 전문서적을 넘어 시집까지 가능하다면 좋을것 같습니다.\n",
        "\n",
        "자연어는 일정한 패턴이 존재하지만 자연스럽다라는 정의를 어떻게 내릴지 생각해보면서 공부하겠습니다.\n",
        "\n",
        "\n",
        "출처 : [파파고](https://papago.naver.com/ \"papago link\")\n"
      ]
    },
    {
      "cell_type": "markdown",
      "metadata": {
        "id": "Ck12Lxstraff",
        "colab_type": "text"
      },
      "source": [
        "# 음성\n",
        "\n",
        "## 고객들을 상담해주는 인공지능 상담원 클로바\n",
        "![클로바 사진](https://lh3.googleusercontent.com/proxy/B-o4qlJQvTSXmcBgN4H17Rf8FD9aF9aM6mcbd8Ba6Z0Rt3lo0VsJjfB8aoZr4lhfJ_lgXDuzQ2wlMpYzw76LPE5nGdVKBPsH7CwR5Z6KVdt_jzEozo1smFPPwvhroCXDbK2ITQ)\n",
        "\n",
        "클로바는 사람의 목소리를 인식하여 작동하는 비서 애플리케이션, 챗봇, 음성 메모 등의 서비스를 만들 때 활용할 수 있는 음성 인식 API 서비스다. 음성 데이터는 API를 통해 Clova Speech Recognition(CSR) 엔진으로 전송되며, 해당 음성 데이터를 인식해서 텍스트로 변환하여 전달해준다. 텍스트 입력이나 물리적인 방법으로만 사용하던 서비스를 음성으로 컨트롤하는데 활용할 수 있다. 가전 제품 및 공동 주택의 홈 네트워크 제어, 배달 주문, 금융 서비스 등에 적용 가능하다. 모바일 SDK를 이용하여 스마트폰 애플리케이션으로 다양한 비서 서비스 등을 구현하는데 이용할 수 있으며, REST API를 이용하면 축적된 음성 데이터 파일을 텍스트로 변환하는데 활용할 수 있다.\n",
        "\n",
        "음성 데이터를 먼저 디지털로 변화하고 음성의 높낮이 폭을 분석하는 등 데이터를 축적 한다고 생각합니다. 해당 데이터를 어떤식으로 변화하는지 본다면 학습하는데 도움 될것같습니다.\n",
        "\n",
        "\n"
      ]
    },
    {
      "cell_type": "markdown",
      "metadata": {
        "id": "p-zRiWvCSVSp",
        "colab_type": "text"
      },
      "source": [
        "# 이미지\n",
        "\n",
        "### 도로의 위험한 포트홀을 인식하는 AI\n",
        "\n",
        "![포트홀 인식 AI](https://image.imnews.imbc.com/replay/2018/nwtoday/article/__icsFiles/afieldfile/2018/10/20/today_20181020_064335_2_9_Large.jpg)\n",
        "\n",
        "인공지능(딥러닝) 기반의 도로포장파손 실시간 탐지시스템 개발 및 적용(한국도로공사 ICT센터)\n",
        "\n",
        "순찰차들로 하여금 노면을 촬영하여 데이터화 하는 작업을 시작했고, '빠른 대응'을 앞선 '선제적 대응'이 가능하게 되었습니다.\n",
        "\n",
        "AI이미지 처리를 이용하여 해당도로에서 포트홀을 구별할수 있게되었습니다.\n",
        "이를 통한 수백개의 포트홀을 식별할수있고 신속한 보수로 사고 위험을 줄일 수있게 됩니다.\n",
        "\n",
        "\n",
        "\n"
      ]
    },
    {
      "cell_type": "markdown",
      "metadata": {
        "id": "gDOzCK-GSVso",
        "colab_type": "text"
      },
      "source": [
        "#자율주행\n",
        "\n",
        "###자율 주행의 선두주자 테슬라\n",
        "\n",
        "![대체 텍스트](http://postfiles13.naver.net/MjAxOTA0MjRfMjI4/MDAxNTU2MTA2NzY3MTc3.7qrlc2SZb1YOia41CldB9oRH7LaPlFVdftmwBTd_Z40g.nyCQw7bFVqNNwbuMJkKxCUkaCVt-HmvSzP_EC7TXqJUg.PNG.shakey7/image.png?type=w966)\n",
        "\n",
        "![대체 텍스트](https://img.gigglehd.com/gg/files/attach/images/14105/725/166/007/c0fceb5ec6eea30648284d519d43377c.gif)\n",
        "\n",
        "테슬라는 운전 도움 기능들을 자동운행(Autopilot)과 완전 자율 주행(FSD;Full Self Driving Capability)로 나누어서 구분하고 FSD는 별도의 추가 비용을 받고 판매하고 있다. FSD옵션을 구매하지 않아도 하드웨어적으로는 완전 자율 주행을 위한 하드웨어 기능을 가지고 판매되고 있으며, 아직은 소프트웨어가 완성되지 않아 완전자율주행(레벨5)이 가능하지 않다. 이후 테슬라 소프트웨어 업데이트를 통해서 뒤에 열거된 자율 주행 기능들이 완성되어 각 국가의 법에 맞는 것이 확인될 때, 레벨5 완전 자율 주행이 가능할 예정이다. 그전까지는 다른 크루즈 컨트롤처럼 운전중에 운전자가 모든 상황을 계속 모니터하다가 문제가 있을 경우 수동 운전으로 변경하여 상황을 운전자가 제어해야 한다.\n",
        "\n",
        "따라서 모든 완전 자율 주행 기능들이 완성되어 출시되기 전까지는 이런 운전 도움 기능은 완전 무인운전이 가능하지 않다는 것을 잘 인식해야 한다. 속도를 자동으로 유지해 주는 크루즈 컨트롤처럼 자동으로 속도와 조향 방향을 조정해 주지만, 운전자는 항상 상황을 주시하고 있다가, 문제가 있을 경우, 운전대를 꺽거나, 브레이크를 밟으면 오토파일럿 모드가 해제되면서(혹은 자율 주행 스틱으로 직접 해제할 수 있다) 운전 상황을 스스로 통제할 수 있게 된다.\n",
        "\n"
      ]
    }
  ]
}